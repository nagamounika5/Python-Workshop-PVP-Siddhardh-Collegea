{
 "cells": [
  {
   "cell_type": "code",
   "execution_count": 1,
   "metadata": {},
   "outputs": [],
   "source": [
    "string1 = '''Respond and protect: With COVID-19 now reported in \n",
    "almost all Gavi-eligible countries, the Vaccine Alliance is \n",
    "providing immediate funding to health systems, enabling \n",
    "countries to protect health care workers, perform vital \n",
    "surveillance and training, and purchase diagnostic tests.'''"
   ]
  },
  {
   "cell_type": "markdown",
   "metadata": {},
   "source": [
    "-  Write a python program to display the max count of letters of word in given paragraph\n",
    "- Write a python program to display the biggest word in given paragraph"
   ]
  },
  {
   "cell_type": "code",
   "execution_count": 12,
   "metadata": {
    "collapsed": true
   },
   "outputs": [
    {
     "name": "stdout",
     "output_type": "stream",
     "text": [
      "7   3   8   4   8   3   8   2   6   3   13   10   3   7   8   2   9   9   7   2   6   8   8   9   2   7   6   4   8   7   5   12   3   9   3   8   10   6   "
     ]
    }
   ],
   "source": [
    "list1 = []\n",
    "for i in string1.split():\n",
    "    print(len(i), end = '   ')\n",
    "    list1.append(len(i))"
   ]
  },
  {
   "cell_type": "code",
   "execution_count": 8,
   "metadata": {
    "collapsed": true
   },
   "outputs": [
    {
     "name": "stdout",
     "output_type": "stream",
     "text": [
      "[7, 3, 8, 4, 8, 3, 8, 2, 6, 3, 13, 10, 3, 7, 8, 2, 9, 9, 7, 2, 6, 8, 8, 9, 2, 7, 6, 4, 8, 7, 5, 12, 3, 9, 3, 8, 10, 6]\n"
     ]
    }
   ],
   "source": [
    "print(list1)"
   ]
  },
  {
   "cell_type": "code",
   "execution_count": 10,
   "metadata": {},
   "outputs": [
    {
     "data": {
      "text/plain": [
       "13"
      ]
     },
     "execution_count": 10,
     "metadata": {},
     "output_type": "execute_result"
    }
   ],
   "source": [
    "max(list1)"
   ]
  },
  {
   "cell_type": "code",
   "execution_count": 13,
   "metadata": {
    "collapsed": true
   },
   "outputs": [
    {
     "name": "stdout",
     "output_type": "stream",
     "text": [
      "['Respond', 'and', 'protect:', 'With', 'COVID-19', 'now', 'reported', 'in', 'almost', 'all', 'Gavi-eligible', 'countries,', 'the', 'Vaccine', 'Alliance', 'is', 'providing', 'immediate', 'funding', 'to', 'health', 'systems,', 'enabling', 'countries', 'to', 'protect', 'health', 'care', 'workers,', 'perform', 'vital', 'surveillance', 'and', 'training,', 'and', 'purchase', 'diagnostic', 'tests.']\n"
     ]
    }
   ],
   "source": [
    "# Write a python program to display the biggest \n",
    "# word in given paragraph\n",
    "list2 = []\n",
    "for i in string1.split():\n",
    "    list2.append(i)\n",
    "\n",
    "print(list2)"
   ]
  },
  {
   "cell_type": "code",
   "execution_count": 15,
   "metadata": {},
   "outputs": [
    {
     "name": "stdout",
     "output_type": "stream",
     "text": [
      "Gavi-eligible\n"
     ]
    }
   ],
   "source": [
    "for i in list2:\n",
    "    if len(i) == max(list1):\n",
    "        print(i)"
   ]
  },
  {
   "cell_type": "code",
   "execution_count": 18,
   "metadata": {},
   "outputs": [],
   "source": [
    "dict1 = {'key1':100,'2ndkey':21.9,'3rd':-5,4:675}"
   ]
  },
  {
   "cell_type": "code",
   "execution_count": 16,
   "metadata": {},
   "outputs": [
    {
     "data": {
      "text/plain": [
       "791.9"
      ]
     },
     "execution_count": 16,
     "metadata": {},
     "output_type": "execute_result"
    }
   ],
   "source": [
    "100+21.9+(-5)+675"
   ]
  },
  {
   "cell_type": "code",
   "execution_count": 19,
   "metadata": {},
   "outputs": [
    {
     "data": {
      "text/plain": [
       "791.9"
      ]
     },
     "execution_count": 19,
     "metadata": {},
     "output_type": "execute_result"
    }
   ],
   "source": [
    "sum(dict1.values())"
   ]
  },
  {
   "cell_type": "markdown",
   "metadata": {},
   "source": [
    "### Packages and Modules\n",
    "#### Modules\n",
    "- Modules is a python file which contains python code.\n",
    "- Syntax: *import module_name*\n",
    "- 2 types of modules\n",
    "    - Predefined or Installed modules\n",
    "    - User-defined modules"
   ]
  },
  {
   "cell_type": "markdown",
   "metadata": {},
   "source": [
    "**Predefined or Installed modules**"
   ]
  },
  {
   "cell_type": "code",
   "execution_count": 20,
   "metadata": {
    "collapsed": true
   },
   "outputs": [
    {
     "name": "stdout",
     "output_type": "stream",
     "text": [
      "\n",
      "Please wait a moment while I gather a list of all available modules...\n",
      "\n"
     ]
    },
    {
     "name": "stderr",
     "output_type": "stream",
     "text": [
      "C:\\Users\\Mouni\\AppData\\Local\\Continuum\\anaconda3\\lib\\site-packages\\IPython\\kernel\\__init__.py:13: ShimWarning: The `IPython.kernel` package has been deprecated since IPython 4.0.You should import from ipykernel or jupyter_client instead.\n",
      "  \"You should import from ipykernel or jupyter_client instead.\", ShimWarning)\n",
      "WARNING: AstropyDeprecationWarning: astropy.utils.compat.futures is now deprecated - use concurrent.futures instead [astropy.utils.compat.futures]\n",
      "C:\\Users\\Mouni\\AppData\\Local\\Continuum\\anaconda3\\lib\\site-packages\\nltk\\twitter\\__init__.py:22: UserWarning: The twython library has not been installed. Some functionality from the twitter package will not be available.\n",
      "  \"The twython library has not been installed. \"\n"
     ]
    },
    {
     "name": "stdout",
     "output_type": "stream",
     "text": [
      "DEBUG:pip._internal.vcs.versioncontrol:Registered VCS backend: bzr\n",
      "DEBUG:pip._internal.vcs.versioncontrol:Registered VCS backend: git\n",
      "DEBUG:pip._internal.vcs.versioncontrol:Registered VCS backend: hg\n",
      "DEBUG:pip._internal.vcs.versioncontrol:Registered VCS backend: svn\n",
      "DEBUG:pyscreenshot:version=1.0\n"
     ]
    },
    {
     "name": "stderr",
     "output_type": "stream",
     "text": [
      "C:\\Users\\Mouni\\AppData\\Local\\Continuum\\anaconda3\\lib\\site-packages\\skimage\\novice\\__init__.py:103: UserWarning: The `skimage.novice` module was deprecated in version 0.14. It will be removed in 0.16.\n",
      "  warnings.warn(\"The `skimage.novice` module was deprecated in version 0.14. \"\n",
      "C:\\Users\\Mouni\\AppData\\Local\\Continuum\\anaconda3\\lib\\site-packages\\skimage\\viewer\\utils\\core.py:10: UserWarning: Recommended matplotlib backend is `Agg` for full skimage.viewer functionality.\n",
      "  warn(\"Recommended matplotlib backend is `Agg` for full \"\n",
      "C:\\Users\\Mouni\\AppData\\Local\\Continuum\\anaconda3\\lib\\site-packages\\sklearn\\externals\\joblib\\__init__.py:15: DeprecationWarning: sklearn.externals.joblib is deprecated in 0.21 and will be removed in 0.23. Please import this functionality directly from joblib, which can be installed with: pip install joblib. If this warning is raised when loading pickled models, you may need to re-serialize those models with scikit-learn 0.21+.\n",
      "  warnings.warn(msg, category=DeprecationWarning)\n",
      "C:\\Users\\Mouni\\AppData\\Local\\Continuum\\anaconda3\\lib\\site-packages\\qtawesome\\iconic_font.py:276: UserWarning: You need to have a running QApplication to use QtAwesome!\n",
      "  warnings.warn(\"You need to have a running \"\n"
     ]
    },
    {
     "data": {
      "text/html": [
       "<div id=\"glowscript\" class=\"glowscript\"></div>"
      ],
      "text/plain": [
       "<IPython.core.display.HTML object>"
      ]
     },
     "metadata": {},
     "output_type": "display_data"
    },
    {
     "data": {
      "application/javascript": [
       "if (typeof Jupyter !== \"undefined\") { window.__context = { glowscript_container: $(\"#glowscript\").removeAttr(\"id\")};}else{ element.textContent = ' ';}"
      ],
      "text/plain": [
       "<IPython.core.display.Javascript object>"
      ]
     },
     "metadata": {},
     "output_type": "display_data"
    },
    {
     "name": "stderr",
     "output_type": "stream",
     "text": [
      "C:\\Users\\Mouni\\AppData\\Local\\Continuum\\anaconda3\\lib\\pkgutil.py:107: VisibleDeprecationWarning: zmq.eventloop.minitornado is deprecated in pyzmq 14.0 and will be removed.\n",
      "    Install tornado itself to use zmq with the tornado IOLoop.\n",
      "    \n",
      "  yield from walk_packages(path, info.name+'.', onerror)\n"
     ]
    },
    {
     "name": "stdout",
     "output_type": "stream",
     "text": [
      "Crypto              builtins            menuinst            sockshandler\n",
      "Cython              bz2                 mimetypes           sortedcollections\n",
      "IPython             cProfile            mistune             sortedcontainers\n",
      "OpenSSL             calendar            mkl                 soupsieve\n",
      "PIL                 certifi             mkl_fft             sphinx\n",
      "PyQt5               cffi                mkl_random          sphinxcontrib\n",
      "__future__          cgi                 mmap                spyder\n",
      "_abc                cgitb               mmapfile            spyder_breakpoints\n",
      "_ast                chardet             mmsystem            spyder_io_dcm\n",
      "_asyncio            chunk               mock                spyder_io_hdf5\n",
      "_bisect             click               modulefinder        spyder_kernels\n",
      "_blake2             cloudpickle         more_itertools      spyder_profiler\n",
      "_bootlocale         clyent              mpmath              spyder_pylint\n",
      "_bz2                cmath               msgpack             sqlalchemy\n",
      "_cffi_backend       cmd                 msilib              sqlite3\n",
      "_codecs             code                msvcrt              sre_compile\n",
      "_codecs_cn          codecs              multidict           sre_constants\n",
      "_codecs_hk          codeop              multipledispatch    sre_parse\n",
      "_codecs_iso2022     collections         multiprocessing     ssl\n",
      "_codecs_jp          colorama            navigator_updater   sspi\n",
      "_codecs_kr          colorsys            nbconvert           sspicon\n",
      "_codecs_tw          commctrl            nbformat            stat\n",
      "_collections        compileall          netbios             statistics\n",
      "_collections_abc    comtypes            netrc               statsmodels\n",
      "_compat_pickle      concurrent          networkx            storemagic\n",
      "_compression        conda               nltk                string\n",
      "_contextvars        conda_build         nntplib             stringprep\n",
      "_csv                conda_env           nose                struct\n",
      "_ctypes             conda_package_handling notebook            subprocess\n",
      "_ctypes_test        conda_verify        nt                  sunau\n",
      "_datetime           configparser        ntpath              symbol\n",
      "_decimal            contextlib          ntsecuritycon       sympy\n",
      "_dummy_thread       contextlib2         nturl2path          sympyprinting\n",
      "_elementtree        contextvars         numba               symtable\n",
      "_functools          copy                numbers             sys\n",
      "_hashlib            copyreg             numexpr             sysconfig\n",
      "_heapq              crypt               numpy               tables\n",
      "_imp                cryptography        numpydoc            tabnanny\n",
      "_io                 csv                 odbc                tarfile\n",
      "_json               ctypes              olefile             tblib\n",
      "_locale             curl                opcode              telnetlib\n",
      "_lsprof             curses              openpyxl            tempfile\n",
      "_lzma               cwp                 operator            terminado\n",
      "_markupbase         cycler              optparse            test\n",
      "_md5                cython              os                  test_data\n",
      "_msi                cythonmagic         packaging           test_pycosat\n",
      "_multibytecodec     cytoolz             pandas              testpath\n",
      "_multiprocessing    dask                pandocfilters       tests\n",
      "_nsis               dataclasses         parser              textwrap\n",
      "_opcode             datetime            parso               this\n",
      "_operator           dateutil            partd               threading\n",
      "_osx_support        dbi                 past                time\n",
      "_overlapped         dbm                 path                timeit\n",
      "_pickle             dde                 pathlib             timer\n",
      "_py_abc             decimal             pathlib2            tkinter\n",
      "_pydecimal          decorator           patsy               tlz\n",
      "_pyio               defusedxml          pdb                 token\n",
      "_pylief             difflib             pep8                tokenize\n",
      "_pyrsistent_version dis                 perfmon             toolz\n",
      "_pytest             distributed         pickle              tornado\n",
      "_queue              distutils           pickleshare         tqdm\n",
      "_random             doctest             pickletools         trace\n",
      "_sha1               docutils            pip                 traceback\n",
      "_sha256             dummy_threading     pipes               tracemalloc\n",
      "_sha3               easy_install        pkg_resources       traitlets\n",
      "_sha512             easyprocess         pkginfo             tty\n",
      "_signal             email               pkgutil             turtle\n",
      "_sitebuiltins       encodings           platform            turtledemo\n",
      "_socket             ensurepip           plistlib            txaio\n",
      "_sqlite3            entrypoint2         pluggy              types\n",
      "_sre                entrypoints         ply                 typing\n",
      "_ssl                enum                poplib              unicodecsv\n",
      "_stat               errno               posixpath           unicodedata\n",
      "_string             et_xmlfile          pprint              unittest\n",
      "_strptime           fastcache           profile             urllib\n",
      "_struct             faulthandler        prometheus_client   urllib3\n",
      "_symtable           filecmp             prompt_toolkit      uu\n",
      "_system_path        fileinput           pstats              uuid\n",
      "_testbuffer         filelock            psutil              venv\n",
      "_testcapi           flask               pty                 vpython\n",
      "_testconsole        fnmatch             pvectorc            warnings\n",
      "_testimportmultiple formatter           py                  wave\n",
      "_testmultiphase     fractions           py_compile          wcwidth\n",
      "_thread             ftplib              pyclbr              weakref\n",
      "_threading_local    functools           pycodestyle         webbrowser\n",
      "_tkinter            future              pycosat             webencodings\n",
      "_tracemalloc        gc                  pycparser           werkzeug\n",
      "_warnings           genericpath         pycurl              wheel\n",
      "_weakref            getopt              pydoc               widgetsnbextension\n",
      "_weakrefset         getpass             pydoc_data          win2kras\n",
      "_win32sysloader     gettext             pydotplus           win32api\n",
      "_winapi             gevent              pyexpat             win32clipboard\n",
      "_winxptheme         glob                pyflakes            win32com\n",
      "_yaml               glob2               pygments            win32con\n",
      "abc                 graphviz            pylab               win32console\n",
      "adodbapi            greenlet            pylint              win32cred\n",
      "afxres              gzip                pyodbc              win32crypt\n",
      "aifc                h5py                pyparsing           win32cryptcon\n",
      "aiohttp             hashlib             pyreadline          win32event\n",
      "alabaster           heapdict            pyrsistent          win32evtlog\n",
      "anaconda_navigator  heapq               pyscreenshot        win32evtlogutil\n",
      "anaconda_project    hmac                pytest              win32file\n",
      "antigravity         html                pytest_arraydiff    win32gui\n",
      "apriori             html5lib            pytest_doctestplus  win32gui_struct\n",
      "argparse            http                pytest_openfiles    win32help\n",
      "array               idlelib             pytest_remotedata   win32inet\n",
      "asn1crypto          idna                pythoncom           win32inetcon\n",
      "ast                 imageio             pytz                win32job\n",
      "astroid             imagesize           pywin               win32lz\n",
      "astropy             imaplib             pywin32_testutil    win32net\n",
      "async_timeout       imghdr              pywintypes          win32netcon\n",
      "asynchat            imp                 pywt                win32pdh\n",
      "asyncio             importlib           pyximport           win32pdhquery\n",
      "asyncore            importlib_metadata  qtawesome           win32pdhutil\n",
      "atexit              inspect             qtconsole           win32pipe\n",
      "atomicwrites        io                  qtpy                win32print\n",
      "attr                ipaddress           queue               win32process\n",
      "audioop             ipykernel           quopri              win32profile\n",
      "autobahn            ipykernel_launcher  random              win32ras\n",
      "autoreload          ipython_genutils    rasutil             win32rcparser\n",
      "babel               ipywidgets          re                  win32security\n",
      "backcall            isapi               readline            win32service\n",
      "backports           isort               regcheck            win32serviceutil\n",
      "base64              isympy              regutil             win32timezone\n",
      "bdb                 itertools           reprlib             win32trace\n",
      "binascii            itsdangerous        requests            win32traceutil\n",
      "binhex              jdcal               rlcompleter         win32transaction\n",
      "binstar_client      jedi                rmagic              win32ts\n",
      "bisect              jinja2              rope                win32ui\n",
      "bitarray            joblib              ruamel_yaml         win32uiole\n",
      "bkcharts            json                run                 win32verstamp\n",
      "bleach              json5               runpy               win32wnet\n",
      "bokeh               jsonschema          sched               win_inet_pton\n",
      "boto                jupyter             scipy               win_unicode_console\n",
      "bottleneck          jupyter_client      scripts             wincertstore\n",
      "brain_argparse      jupyter_console     seaborn             winerror\n",
      "brain_attrs         jupyter_core        secrets             winioctlcon\n",
      "brain_builtin_inference jupyter_server_proxy select              winnt\n",
      "brain_collections   jupyterlab          selectors           winperf\n",
      "brain_curses        jupyterlab_server   send2trash          winpty\n",
      "brain_dateutil      keyring             servicemanager      winreg\n",
      "brain_fstrings      keyword             setuptools          winsound\n",
      "brain_functools     kiwisolver          shelve              winxpgui\n",
      "brain_gi            lazy_object_proxy   shlex               winxptheme\n",
      "brain_hashlib       lib2to3             shutil              wrapt\n",
      "brain_http          libarchive          signal              wsgiref\n",
      "brain_io            libfuturize         simpervisor         xdrlib\n",
      "brain_mechanize     libpasteurize       simplegeneric       xlrd\n",
      "brain_multiprocessing lief                singledispatch      xlsxwriter\n",
      "brain_namedtuple_enum linecache           singledispatch_helpers xlwings\n",
      "brain_nose          llvmlite            sip                 xlwt\n",
      "brain_numpy         locale              sipconfig           xml\n",
      "brain_pkg_resources locket              sipdistutils        xmlrpc\n",
      "brain_pytest        logging             site                xxsubtype\n",
      "brain_qt            lxml                six                 yaml\n",
      "brain_random        lzma                skimage             yarl\n",
      "brain_re            macpath             sklearn             zict\n",
      "brain_six           mailbox             smtpd               zipapp\n",
      "brain_ssl           mailcap             smtplib             zipfile\n",
      "brain_subprocess    markupsafe          sndhdr              zipimport\n",
      "brain_threading     marshal             snowballstemmer     zipp\n",
      "brain_typing        math                socket              zlib\n",
      "brain_uuid          matplotlib          socketserver        zmq\n",
      "bs4                 mccabe              socks               \n",
      "\n",
      "Enter any module name to get more help.  Or, type \"modules spam\" to search\n",
      "for modules whose name or summary contain the string \"spam\".\n",
      "\n",
      "DEBUG:matplotlib.pyplot:Loaded backend module://ipykernel.pylab.backend_inline version unknown.\n"
     ]
    }
   ],
   "source": [
    "help(\"modules\")"
   ]
  },
  {
   "cell_type": "code",
   "execution_count": 21,
   "metadata": {
    "collapsed": true
   },
   "outputs": [
    {
     "ename": "NameError",
     "evalue": "name 'pi' is not defined",
     "output_type": "error",
     "traceback": [
      "\u001b[1;31m---------------------------------------------------------------------------\u001b[0m",
      "\u001b[1;31mNameError\u001b[0m                                 Traceback (most recent call last)",
      "\u001b[1;32m<ipython-input-21-9e2d2bd32686>\u001b[0m in \u001b[0;36m<module>\u001b[1;34m\u001b[0m\n\u001b[1;32m----> 1\u001b[1;33m \u001b[0mprint\u001b[0m\u001b[1;33m(\u001b[0m\u001b[0mpi\u001b[0m\u001b[1;33m)\u001b[0m\u001b[1;33m\u001b[0m\u001b[1;33m\u001b[0m\u001b[0m\n\u001b[0m",
      "\u001b[1;31mNameError\u001b[0m: name 'pi' is not defined"
     ]
    }
   ],
   "source": [
    "print(pi)"
   ]
  },
  {
   "cell_type": "code",
   "execution_count": 22,
   "metadata": {},
   "outputs": [],
   "source": [
    "import math"
   ]
  },
  {
   "cell_type": "code",
   "execution_count": 24,
   "metadata": {},
   "outputs": [
    {
     "name": "stdout",
     "output_type": "stream",
     "text": [
      "3.141592653589793\n"
     ]
    }
   ],
   "source": [
    "print(math.pi)"
   ]
  },
  {
   "cell_type": "code",
   "execution_count": 25,
   "metadata": {
    "collapsed": true
   },
   "outputs": [
    {
     "name": "stdout",
     "output_type": "stream",
     "text": [
      "['__doc__', '__loader__', '__name__', '__package__', '__spec__', 'acos', 'acosh', 'asin', 'asinh', 'atan', 'atan2', 'atanh', 'ceil', 'copysign', 'cos', 'cosh', 'degrees', 'e', 'erf', 'erfc', 'exp', 'expm1', 'fabs', 'factorial', 'floor', 'fmod', 'frexp', 'fsum', 'gamma', 'gcd', 'hypot', 'inf', 'isclose', 'isfinite', 'isinf', 'isnan', 'ldexp', 'lgamma', 'log', 'log10', 'log1p', 'log2', 'modf', 'nan', 'pi', 'pow', 'radians', 'remainder', 'sin', 'sinh', 'sqrt', 'tan', 'tanh', 'tau', 'trunc']\n"
     ]
    }
   ],
   "source": [
    "print(dir(math))"
   ]
  },
  {
   "cell_type": "code",
   "execution_count": 26,
   "metadata": {},
   "outputs": [],
   "source": [
    "import calendar"
   ]
  },
  {
   "cell_type": "code",
   "execution_count": 28,
   "metadata": {
    "collapsed": true
   },
   "outputs": [
    {
     "name": "stdout",
     "output_type": "stream",
     "text": [
      "                                  2021\n",
      "\n",
      "      January                   February                   March\n",
      "Mo Tu We Th Fr Sa Su      Mo Tu We Th Fr Sa Su      Mo Tu We Th Fr Sa Su\n",
      "             1  2  3       1  2  3  4  5  6  7       1  2  3  4  5  6  7\n",
      " 4  5  6  7  8  9 10       8  9 10 11 12 13 14       8  9 10 11 12 13 14\n",
      "11 12 13 14 15 16 17      15 16 17 18 19 20 21      15 16 17 18 19 20 21\n",
      "18 19 20 21 22 23 24      22 23 24 25 26 27 28      22 23 24 25 26 27 28\n",
      "25 26 27 28 29 30 31                                29 30 31\n",
      "\n",
      "       April                      May                       June\n",
      "Mo Tu We Th Fr Sa Su      Mo Tu We Th Fr Sa Su      Mo Tu We Th Fr Sa Su\n",
      "          1  2  3  4                      1  2          1  2  3  4  5  6\n",
      " 5  6  7  8  9 10 11       3  4  5  6  7  8  9       7  8  9 10 11 12 13\n",
      "12 13 14 15 16 17 18      10 11 12 13 14 15 16      14 15 16 17 18 19 20\n",
      "19 20 21 22 23 24 25      17 18 19 20 21 22 23      21 22 23 24 25 26 27\n",
      "26 27 28 29 30            24 25 26 27 28 29 30      28 29 30\n",
      "                          31\n",
      "\n",
      "        July                     August                  September\n",
      "Mo Tu We Th Fr Sa Su      Mo Tu We Th Fr Sa Su      Mo Tu We Th Fr Sa Su\n",
      "          1  2  3  4                         1             1  2  3  4  5\n",
      " 5  6  7  8  9 10 11       2  3  4  5  6  7  8       6  7  8  9 10 11 12\n",
      "12 13 14 15 16 17 18       9 10 11 12 13 14 15      13 14 15 16 17 18 19\n",
      "19 20 21 22 23 24 25      16 17 18 19 20 21 22      20 21 22 23 24 25 26\n",
      "26 27 28 29 30 31         23 24 25 26 27 28 29      27 28 29 30\n",
      "                          30 31\n",
      "\n",
      "      October                   November                  December\n",
      "Mo Tu We Th Fr Sa Su      Mo Tu We Th Fr Sa Su      Mo Tu We Th Fr Sa Su\n",
      "             1  2  3       1  2  3  4  5  6  7             1  2  3  4  5\n",
      " 4  5  6  7  8  9 10       8  9 10 11 12 13 14       6  7  8  9 10 11 12\n",
      "11 12 13 14 15 16 17      15 16 17 18 19 20 21      13 14 15 16 17 18 19\n",
      "18 19 20 21 22 23 24      22 23 24 25 26 27 28      20 21 22 23 24 25 26\n",
      "25 26 27 28 29 30 31      29 30                     27 28 29 30 31\n",
      "\n"
     ]
    }
   ],
   "source": [
    "print(calendar.calendar(2021))"
   ]
  },
  {
   "cell_type": "code",
   "execution_count": 29,
   "metadata": {
    "collapsed": true
   },
   "outputs": [
    {
     "name": "stdout",
     "output_type": "stream",
     "text": [
      "    October 2021\n",
      "Mo Tu We Th Fr Sa Su\n",
      "             1  2  3\n",
      " 4  5  6  7  8  9 10\n",
      "11 12 13 14 15 16 17\n",
      "18 19 20 21 22 23 24\n",
      "25 26 27 28 29 30 31\n",
      "\n"
     ]
    }
   ],
   "source": [
    "print(calendar.month(2021,10))"
   ]
  },
  {
   "cell_type": "code",
   "execution_count": null,
   "metadata": {},
   "outputs": [],
   "source": [
    "#U+1F600 ---> instead of '+' use 000"
   ]
  },
  {
   "cell_type": "code",
   "execution_count": 36,
   "metadata": {},
   "outputs": [
    {
     "name": "stdout",
     "output_type": "stream",
     "text": [
      "😀\n"
     ]
    }
   ],
   "source": [
    "print(\"\\U0001F600\")"
   ]
  },
  {
   "cell_type": "code",
   "execution_count": 35,
   "metadata": {},
   "outputs": [
    {
     "name": "stdout",
     "output_type": "stream",
     "text": [
      "😀\n"
     ]
    }
   ],
   "source": [
    "print('\\N{grinning face}')"
   ]
  },
  {
   "cell_type": "markdown",
   "metadata": {},
   "source": [
    "**User-defined modules**"
   ]
  },
  {
   "cell_type": "code",
   "execution_count": 1,
   "metadata": {},
   "outputs": [],
   "source": [
    "import program"
   ]
  },
  {
   "cell_type": "code",
   "execution_count": 38,
   "metadata": {},
   "outputs": [
    {
     "name": "stdout",
     "output_type": "stream",
     "text": [
      "Odd Number\n"
     ]
    }
   ],
   "source": [
    "program.evenOdd(5)"
   ]
  },
  {
   "cell_type": "markdown",
   "metadata": {},
   "source": [
    "- Write a factorial program in program.py file "
   ]
  },
  {
   "cell_type": "code",
   "execution_count": 2,
   "metadata": {},
   "outputs": [
    {
     "name": "stdout",
     "output_type": "stream",
     "text": [
      "24\n"
     ]
    }
   ],
   "source": [
    "program.factorial(4)"
   ]
  },
  {
   "cell_type": "markdown",
   "metadata": {},
   "source": [
    "### Regular Expression\n",
    "- In python regular expression is used to describe as search pattern.\n",
    "- Syntax: import re"
   ]
  },
  {
   "cell_type": "markdown",
   "metadata": {},
   "source": [
    "- Commonly used methods \n",
    "    - re.findall()\n",
    "    - re.search()\n",
    "    - re.match()\n",
    "        - Syntax: re.methond('pattern', 'string')"
   ]
  },
  {
   "cell_type": "code",
   "execution_count": null,
   "metadata": {},
   "outputs": [],
   "source": [
    "# [ ] --->(*Set or group*)  group of combination \n",
    "                   #  of chars & numbers etc.\n",
    "# \\  ---> Special sequence\n",
    "# .  ---> represent a Unknown character\n",
    "# ^  ----> (*Caret*)starts with\n",
    "# $  ---> (*Dollar*)ends with\n",
    "# * ---> 0 or more occorance\n",
    "# + ---> 1 or more occorance\n",
    "# { } ----> Exactly the specified no.of occorance\n",
    "# |  ----> or\n",
    "# () ---> Group"
   ]
  },
  {
   "cell_type": "code",
   "execution_count": null,
   "metadata": {},
   "outputs": [],
   "source": [
    "### [   ] --> Set\n",
    "#=================\n",
    "# [a-z] ---> find small letters\n",
    "# [A-Z] ---> find captial letters\n",
    "# [0-9] ---> find numbers\n",
    "# [0-5] ---> find 0 1 2 3 4 5\n",
    "# [39] ---> find 3 9"
   ]
  },
  {
   "cell_type": "code",
   "execution_count": null,
   "metadata": {},
   "outputs": [],
   "source": [
    "## \\ ---> (Special Sequence)\n",
    "#===========================\n",
    "# \\d --> Any digit\n",
    "# \\D --> non-digit\n",
    "# \\s --> whitesapce (Returns 'space')\n",
    "# \\S --> non-whitespace (Removes 'space')\n",
    "# \\w --> alphanumeric\n",
    "# \\W --> non-alphanumeric (Ex: !@#$%^)"
   ]
  },
  {
   "cell_type": "markdown",
   "metadata": {},
   "source": [
    "-  Write a pattern to find the letters between \"e\" to \"h\" from given string."
   ]
  },
  {
   "cell_type": "code",
   "execution_count": 1,
   "metadata": {},
   "outputs": [],
   "source": [
    "string2 = '''You can be infected by breathing in \n",
    "the virus if you are near someone who has \n",
    "COVID-19, or by touching a contaminated surface \n",
    "and then your eyes, nose or mouth. The virus \n",
    "spreads more easily indoors and in crowded \n",
    "settings.'''"
   ]
  },
  {
   "cell_type": "code",
   "execution_count": 2,
   "metadata": {},
   "outputs": [],
   "source": [
    "import re"
   ]
  },
  {
   "cell_type": "code",
   "execution_count": 3,
   "metadata": {
    "collapsed": true
   },
   "outputs": [
    {
     "data": {
      "text/plain": [
       "['e',\n",
       " 'f',\n",
       " 'e',\n",
       " 'e',\n",
       " 'e',\n",
       " 'h',\n",
       " 'g',\n",
       " 'h',\n",
       " 'e',\n",
       " 'f',\n",
       " 'e',\n",
       " 'e',\n",
       " 'e',\n",
       " 'e',\n",
       " 'h',\n",
       " 'h',\n",
       " 'h',\n",
       " 'g',\n",
       " 'e',\n",
       " 'f',\n",
       " 'e',\n",
       " 'h',\n",
       " 'e',\n",
       " 'e',\n",
       " 'e',\n",
       " 'e',\n",
       " 'h',\n",
       " 'h',\n",
       " 'e',\n",
       " 'e',\n",
       " 'e',\n",
       " 'e',\n",
       " 'e',\n",
       " 'e',\n",
       " 'g']"
      ]
     },
     "execution_count": 3,
     "metadata": {},
     "output_type": "execute_result"
    }
   ],
   "source": [
    "re.findall('[e-h]',string2)"
   ]
  },
  {
   "cell_type": "code",
   "execution_count": 4,
   "metadata": {},
   "outputs": [
    {
     "data": {
      "text/plain": [
       "['5', '0', '1', '0', '0']"
      ]
     },
     "execution_count": 4,
     "metadata": {},
     "output_type": "execute_result"
    }
   ],
   "source": [
    "re.findall('[0-9]',\n",
    "           'Students strength is 50 out of 100')"
   ]
  },
  {
   "cell_type": "code",
   "execution_count": 5,
   "metadata": {},
   "outputs": [
    {
     "data": {
      "text/plain": [
       "['50', '10']"
      ]
     },
     "execution_count": 5,
     "metadata": {},
     "output_type": "execute_result"
    }
   ],
   "source": [
    "re.findall('[0-9]{2}', \n",
    "           'Students strength is 50 out of 100')"
   ]
  },
  {
   "cell_type": "code",
   "execution_count": 6,
   "metadata": {},
   "outputs": [],
   "source": [
    "roll_List  = ['20501a0201','19501a0201',\n",
    "              '20501a0233','21501a0243']"
   ]
  },
  {
   "cell_type": "code",
   "execution_count": 7,
   "metadata": {},
   "outputs": [
    {
     "name": "stdout",
     "output_type": "stream",
     "text": [
      "20501a0201\n",
      "20501a0233\n"
     ]
    }
   ],
   "source": [
    "for i in roll_List:\n",
    "    if re.search('^20',i):\n",
    "        print(i)"
   ]
  },
  {
   "cell_type": "markdown",
   "metadata": {},
   "source": [
    "- Phone number validator"
   ]
  },
  {
   "cell_type": "code",
   "execution_count": 8,
   "metadata": {},
   "outputs": [],
   "source": [
    "def cellNumber(number):\n",
    "    if re.match('^[6-9][0-9]{9}$',number):\n",
    "        print('Indian cell number')\n",
    "    else:\n",
    "        print('ISD')"
   ]
  },
  {
   "cell_type": "code",
   "execution_count": 9,
   "metadata": {},
   "outputs": [
    {
     "name": "stdout",
     "output_type": "stream",
     "text": [
      "Indian cell number\n"
     ]
    }
   ],
   "source": [
    "cellNumber('9876543210')"
   ]
  },
  {
   "cell_type": "markdown",
   "metadata": {},
   "source": [
    "#### Comprehensions\n",
    "- Short hand\n",
    "    - List Comprehensions\n",
    "    - Dictionary\n",
    "    - Set\n",
    "    - tuple\n",
    "    \n",
    "- Syntax: [Statement ..for loop]"
   ]
  },
  {
   "cell_type": "code",
   "execution_count": 12,
   "metadata": {},
   "outputs": [
    {
     "name": "stdout",
     "output_type": "stream",
     "text": [
      "[1, 2, 3, 4, 5, 6, 7, 8, 9, 10]\n"
     ]
    }
   ],
   "source": [
    "list1 = []\n",
    "for i in range(1,11):\n",
    "    #print(i)\n",
    "    list1.append(i)\n",
    "print(list1)"
   ]
  },
  {
   "cell_type": "code",
   "execution_count": 13,
   "metadata": {},
   "outputs": [
    {
     "data": {
      "text/plain": [
       "[1, 2, 3, 4, 5, 6, 7, 8, 9, 10]"
      ]
     },
     "execution_count": 13,
     "metadata": {},
     "output_type": "execute_result"
    }
   ],
   "source": [
    "# Write above program using Comprehensions\n",
    "[i for i in range(1,11)]"
   ]
  },
  {
   "cell_type": "code",
   "execution_count": 14,
   "metadata": {},
   "outputs": [
    {
     "name": "stdout",
     "output_type": "stream",
     "text": [
      "Even\n"
     ]
    }
   ],
   "source": [
    "# Even number\n",
    "number = 288\n",
    "if number%2 == 0: ## Condition\n",
    "    print('Even') ## Statement1\n",
    "else:\n",
    "    print('Odd') ## Statement"
   ]
  },
  {
   "cell_type": "code",
   "execution_count": 15,
   "metadata": {},
   "outputs": [],
   "source": [
    "##Syntax for comprehensions with conditions\n",
    "# [statement if(condition) else statement]"
   ]
  },
  {
   "cell_type": "code",
   "execution_count": 16,
   "metadata": {},
   "outputs": [
    {
     "data": {
      "text/plain": [
       "['Odd']"
      ]
     },
     "execution_count": 16,
     "metadata": {},
     "output_type": "execute_result"
    }
   ],
   "source": [
    "number2 = 777\n",
    "['Even' if(number2%2 == 0) else 'Odd']"
   ]
  },
  {
   "cell_type": "code",
   "execution_count": 18,
   "metadata": {
    "collapsed": true
   },
   "outputs": [
    {
     "name": "stdout",
     "output_type": "stream",
     "text": [
      "[0, 'Numeric', 2, 'Numeric', 4, 'Numeric', 6, 7, 8, 'Numeric', 10, 'Numeric', 12, 'Numeric', 14, 'Numeric', 16, 'Numeric', 18, 'Numeric', 20, 21, 22, 'Numeric', 24, 'Numeric']\n"
     ]
    }
   ],
   "source": [
    "list2 = []\n",
    "for i in range(26):\n",
    "    if i%2 == 0:\n",
    "        list2.append(i)\n",
    "    elif i%7 == 0:\n",
    "        list2.append(i)\n",
    "    else:\n",
    "        list2.append('Numeric')\n",
    "\n",
    "print(list2)"
   ]
  },
  {
   "cell_type": "code",
   "execution_count": null,
   "metadata": {},
   "outputs": [],
   "source": [
    "# [statement if(condition) \n",
    "#  else statement if(condition)\n",
    "# else statement\n",
    "# for loop]"
   ]
  }
 ],
 "metadata": {
  "kernelspec": {
   "display_name": "Python 3",
   "language": "python",
   "name": "python3"
  },
  "language_info": {
   "codemirror_mode": {
    "name": "ipython",
    "version": 3
   },
   "file_extension": ".py",
   "mimetype": "text/x-python",
   "name": "python",
   "nbconvert_exporter": "python",
   "pygments_lexer": "ipython3",
   "version": "3.7.3"
  }
 },
 "nbformat": 4,
 "nbformat_minor": 2
}
